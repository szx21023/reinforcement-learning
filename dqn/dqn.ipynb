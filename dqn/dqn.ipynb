{
 "cells": [
  {
   "cell_type": "code",
   "execution_count": null,
   "id": "76d0dc61",
   "metadata": {},
   "outputs": [],
   "source": [
    "from torch import nn, tensor, optim\n",
    "import torch\n",
    "\n",
    "class DQN(nn.Module):\n",
    "    def __init__(self, inputs, outputs):\n",
    "        super(DQN, self).__init__()\n",
    "        self.layer_1 = nn.Linear(inputs, 64)\n",
    "        self.layer_2 = nn.Linear(64, 128)\n",
    "        self.layer_3 = nn.Linear(128, 256)\n",
    "        self.layer_output = nn.Linear(256, outputs)\n",
    "        self.activate = nn.ReLU()\n",
    "    \n",
    "    def forward(self, x):\n",
    "        self.l1 = self.activate(self.layer_1(x))\n",
    "        self.l2 = self.activate(self.layer_2(self.l1))\n",
    "        self.l3 = self.activate(self.layer_3(self.l2))\n",
    "        output = self.layer_output(self.l3)\n",
    "        return output"
   ]
  },
  {
   "cell_type": "code",
   "execution_count": null,
   "id": "674e6ba6",
   "metadata": {},
   "outputs": [],
   "source": [
    "dqn = DQN(2, 2)"
   ]
  },
  {
   "cell_type": "code",
   "execution_count": null,
   "id": "e093d9c1",
   "metadata": {},
   "outputs": [],
   "source": [
    "optimizer = optim.RMSprop(dqn.parameters())\n",
    "criterion = nn.MSELoss()\n",
    "\n",
    "for k in range(2000):\n",
    "    for j in range(25):\n",
    "        long_tensor = tensor([j for i in range(2)], dtype=torch.float)\n",
    "        pred = dqn(long_tensor)\n",
    "        real = tensor([j, 0], dtype=torch.float)\n",
    "\n",
    "        loss = criterion(pred, real)\n",
    "        optimizer.zero_grad()\n",
    "        loss.backward()\n",
    "        optimizer.step()\n",
    "\n",
    "    for j in range(25):\n",
    "        long_tensor = tensor([-j for i in range(2)], dtype=torch.float)\n",
    "        pred = dqn(long_tensor)\n",
    "        real = tensor([0, j], dtype=torch.float)\n",
    "\n",
    "        loss = criterion(pred, real)\n",
    "        optimizer.zero_grad()\n",
    "        loss.backward()\n",
    "        optimizer.step()"
   ]
  },
  {
   "cell_type": "code",
   "execution_count": null,
   "id": "a755e760",
   "metadata": {},
   "outputs": [],
   "source": [
    "long_tensor = tensor([-11 for i in range(2)], dtype=torch.float)\n",
    "pred = dqn(long_tensor)\n",
    "pred"
   ]
  },
  {
   "cell_type": "code",
   "execution_count": null,
   "id": "568d58c6",
   "metadata": {},
   "outputs": [],
   "source": [
    "long_tensor = tensor([7 for i in range(2)], dtype=torch.float)\n",
    "pred = dqn(long_tensor)\n",
    "pred"
   ]
  },
  {
   "cell_type": "code",
   "execution_count": null,
   "id": "069829b7",
   "metadata": {},
   "outputs": [],
   "source": []
  }
 ],
 "metadata": {
  "kernelspec": {
   "display_name": "Python 3 (ipykernel)",
   "language": "python",
   "name": "python3"
  },
  "language_info": {
   "codemirror_mode": {
    "name": "ipython",
    "version": 3
   },
   "file_extension": ".py",
   "mimetype": "text/x-python",
   "name": "python",
   "nbconvert_exporter": "python",
   "pygments_lexer": "ipython3",
   "version": "3.8.0"
  }
 },
 "nbformat": 4,
 "nbformat_minor": 5
}
